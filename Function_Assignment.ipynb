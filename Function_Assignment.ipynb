{
  "nbformat": 4,
  "nbformat_minor": 0,
  "metadata": {
    "colab": {
      "provenance": []
    },
    "kernelspec": {
      "name": "python3",
      "display_name": "Python 3"
    },
    "language_info": {
      "name": "python"
    }
  },
  "cells": [
    {
      "cell_type": "markdown",
      "source": [
        "FUNCTIONS ASSIGNMENT\n",
        "\n",
        "Theoretical Question:\n",
        "\n",
        "1. What is the difference between a function and a method in Python?\n",
        "- A function is a block of code that performs a specific task and is defined using the 'def' keyword. However, a method is a function that is associated with an object. Specifically, it's a function that is defined inside a class and is intended to operate on instances of that class.\n",
        "2. Explain the concept of function arguments and parameters in Python.\n",
        "- Parametersare variable names listed in the function definition.They act as placeholders for the values that will be passed into the function. Whereas, Arguments are the actual values you pass to the function when calling it. They get assigned to the function’s parameters.\n",
        "3. What are the different ways to define and call a function in Python?\n",
        "- Defining a Function can be done by using 'def' keyword and calling is done by the name of function. It is same name which was given while defining the function.\n",
        "4. What is the purpose of the `return` statement in a Python function?\n",
        "- As soon as the operator reach 'return' statement the operator exits the function and passes the specified value back to where the function was called.\n",
        "5. What are iterators in Python and how do they differ from iterables?\n",
        "- Iterable is the object you can loop over (like lists, strings, etc.). Whereas, iterator is the object that actually performs iteration; it remembers its position and uses __next__() to get the next item.\n",
        "6. Explain the concept of generators in Python and how they are defined.\n",
        "- Generators are a way to create iterators in Python more efficiently and with less code. They let you yield a sequence of values one at a time, using the yield keyword.\n",
        "7. What are the advantages of using generators over regular functions?\n",
        "- Generators offer several powerful advantages over regular functions, especially when working with large data, infinite sequences, or performance-critical applications. Some of the advantages are memory efficiency, Lazy Evaluation, Improved Performance, Simpler Code for Iterators, Pipeline Friendly.\n",
        "8. What is a lambda function in Python and when is it typically used?\n",
        "- A lambda function is a small, anonymous (unnamed) function defined using the lambda keyword. It can have any number of arguments, but only one expression — and it automatically returns the result of that expression.\n",
        "9. Explain the purpose and usage of the `map()` function in Python.\n",
        "- The map() function is a built-in Python function used to apply a given function to every item in an iterable (like a list, tuple, etc.) and return a new map object (an iterator) with the results.\n",
        "10. What is the difference between `map()`, `reduce()`, and `filter()` functions in Python?\n",
        "- map(), reduce(), and filter() are all functional programming tools in Python that work with iterables, but they serve different purposes. Map() is used to reansform each item. Reduce() is used to reduce iterable to a single value and filter() function filters item on the basis of the condition.\n",
        "11. Using pen & Paper write the internal mechanism for sum operation using  reduce function on this given\n",
        "list:[47,11,42,13];\n",
        "- The result is named as \"question 11 answer.jpg\" in files:\n",
        "\n",
        "\n",
        "\n",
        "Practical Questions:\n",
        "\n",
        "1.  Write a Python function that takes a list of numbers as input and returns the sum of all even numbers in\n",
        "the list."
      ],
      "metadata": {
        "id": "azH2uuixx8TP"
      }
    },
    {
      "cell_type": "code",
      "execution_count": 3,
      "metadata": {
        "colab": {
          "base_uri": "https://localhost:8080/"
        },
        "id": "nAIQ8pyQx6o7",
        "outputId": "84d6190d-fbda-4fcc-d0f2-7212ae5ce2c0"
      },
      "outputs": [
        {
          "output_type": "stream",
          "name": "stdout",
          "text": [
            "Sum of even numbers: 12\n"
          ]
        }
      ],
      "source": [
        "def sum_of_evens(numbers):\n",
        "    return sum(num for num in numbers if num % 2 == 0)\n",
        "\n",
        "my_list = [1, 2, 3, 4, 5, 6]\n",
        "result = sum_of_evens(my_list)\n",
        "print(\"Sum of even numbers:\", result)"
      ]
    },
    {
      "cell_type": "markdown",
      "source": [
        "2. Create a Python function that accepts a string and returns the reverse of that string."
      ],
      "metadata": {
        "id": "sokZaAX9zgjV"
      }
    },
    {
      "cell_type": "code",
      "source": [
        "def reverse_string(input_string):\n",
        "    return input_string[::-1]\n",
        "\n",
        "my_string = \"Hello, World!\"\n",
        "reversed_string = reverse_string(my_string)\n",
        "print(\"Reversed string:\", reversed_string)"
      ],
      "metadata": {
        "colab": {
          "base_uri": "https://localhost:8080/"
        },
        "id": "XjPbXPjNzmAV",
        "outputId": "70288120-8f0c-43a1-f87e-017bed4f9a7c"
      },
      "execution_count": 4,
      "outputs": [
        {
          "output_type": "stream",
          "name": "stdout",
          "text": [
            "Reversed string: !dlroW ,olleH\n"
          ]
        }
      ]
    },
    {
      "cell_type": "markdown",
      "source": [
        "3.  Implement a Python function that takes a list of integers and returns a new list containing the squares of each number."
      ],
      "metadata": {
        "id": "MNTnBphxzvtV"
      }
    },
    {
      "cell_type": "code",
      "source": [
        "def square_numbers(numbers):\n",
        "    return [num ** 2 for num in numbers]\n",
        "\n",
        "my_list1 = [1, 2, 3, 4, 5]\n",
        "squared_list = square_numbers(my_list1)\n",
        "print(\"Squared numbers:\", squared_list)"
      ],
      "metadata": {
        "colab": {
          "base_uri": "https://localhost:8080/"
        },
        "id": "XOyGaARnz1kl",
        "outputId": "cf22d9cf-9687-4cac-f714-5c2c99c5ce35"
      },
      "execution_count": 13,
      "outputs": [
        {
          "output_type": "stream",
          "name": "stdout",
          "text": [
            "Squared numbers: [1, 4, 9, 16, 25]\n"
          ]
        }
      ]
    },
    {
      "cell_type": "markdown",
      "source": [
        "4. Write a Python function that checks if a given number is prime or not from 1 to 200."
      ],
      "metadata": {
        "id": "HLbtPXX30kIk"
      }
    },
    {
      "cell_type": "code",
      "source": [
        "def is_prime(n):\n",
        "  if n < 2:\n",
        "    return False\n",
        "  for i in range(2, int(n ** 0.5) + 1):\n",
        "    if n % i == 0:\n",
        "      return False\n",
        "  return True\n",
        "\n",
        "number = 11\n",
        "if is_prime(number):\n",
        "  print(f\"{number} is a prime number.\")\n",
        "else:\n",
        "  print(f\"{number} is not a prime number.\")"
      ],
      "metadata": {
        "colab": {
          "base_uri": "https://localhost:8080/"
        },
        "id": "9L_F6XWQ0pRs",
        "outputId": "1984529e-6840-4893-aeaa-40289b122942"
      },
      "execution_count": 19,
      "outputs": [
        {
          "output_type": "stream",
          "name": "stdout",
          "text": [
            "11 is a prime number.\n"
          ]
        }
      ]
    },
    {
      "cell_type": "markdown",
      "source": [
        "5. Create an iterator class in Python that generates the Fibonacci sequence up to a specified number of terms."
      ],
      "metadata": {
        "id": "PDQacmgH2rIr"
      }
    },
    {
      "cell_type": "code",
      "source": [
        "class Fibonacci:\n",
        "    def __init__(self, max_terms):\n",
        "        self.max_terms = max_terms\n",
        "        self.count = 0\n",
        "        self.a, self.b = 0, 1\n",
        "\n",
        "    def __iter__(self):\n",
        "        return self\n",
        "\n",
        "    def __next__(self):\n",
        "        if self.count >= self.max_terms:\n",
        "            raise StopIteration\n",
        "        if self.count == 0:\n",
        "            self.count += 1\n",
        "            return self.a\n",
        "        elif self.count == 1:\n",
        "            self.count += 1\n",
        "            return self.b\n",
        "        else:\n",
        "            self.a, self.b = self.b, self.a + self.b\n",
        "            self.count += 1\n",
        "            return self.b\n",
        "\n",
        "fib = Fibonacci(10)\n",
        "\n",
        "for num in fib:\n",
        "    print(num, end=' ')"
      ],
      "metadata": {
        "colab": {
          "base_uri": "https://localhost:8080/"
        },
        "id": "UiBHZ7oR2ySD",
        "outputId": "fe454207-052c-40b0-c6f7-a0ed6b0be282"
      },
      "execution_count": 27,
      "outputs": [
        {
          "output_type": "stream",
          "name": "stdout",
          "text": [
            "0 1 1 2 3 5 8 13 21 34 "
          ]
        }
      ]
    },
    {
      "cell_type": "markdown",
      "source": [
        "6. Write a generator function in Python that yields the powers of 2 up to a given exponent."
      ],
      "metadata": {
        "id": "TyGsBrRY4W8B"
      }
    },
    {
      "cell_type": "code",
      "source": [
        "def power_of_two(exponent):\n",
        "    for i in range(exponent + 1):\n",
        "        yield 2 ** i\n",
        "\n",
        "exponent = 5\n",
        "for power in power_of_two(exponent):\n",
        "    print(power)"
      ],
      "metadata": {
        "colab": {
          "base_uri": "https://localhost:8080/"
        },
        "id": "xHwdudj64cfh",
        "outputId": "4aee1ad9-d266-4a01-e653-280219e72245"
      },
      "execution_count": 28,
      "outputs": [
        {
          "output_type": "stream",
          "name": "stdout",
          "text": [
            "1\n",
            "2\n",
            "4\n",
            "8\n",
            "16\n",
            "32\n"
          ]
        }
      ]
    },
    {
      "cell_type": "markdown",
      "source": [
        "7.  Implement a generator function that reads a file line by line and yields each line as a string."
      ],
      "metadata": {
        "id": "l1tQRzhe4lFZ"
      }
    },
    {
      "cell_type": "code",
      "source": [
        "with open('example.txt', 'w') as f:\n",
        "    f.write(\"1. Maninder Sarao \\n2. Python Coding \\n3. Physics Wallah\")\n",
        "\n",
        "def read_file_lines(filepath):\n",
        "    with open(filepath, 'r') as file:\n",
        "        for line in file:\n",
        "            yield line.rstrip('\\n')  # Remove trailing newline (optional)\n",
        "\n",
        "\n",
        "for line in read_file_lines('example.txt'):\n",
        "    print(line)"
      ],
      "metadata": {
        "colab": {
          "base_uri": "https://localhost:8080/"
        },
        "id": "j9VIpnkS4qAJ",
        "outputId": "3c55b4d0-e3a8-467e-e69e-481af86095d0"
      },
      "execution_count": 34,
      "outputs": [
        {
          "output_type": "stream",
          "name": "stdout",
          "text": [
            "1. Maninder Sarao \n",
            "2. Python Coding \n",
            "3. Physics Wallah\n"
          ]
        }
      ]
    },
    {
      "cell_type": "markdown",
      "source": [
        "8.  Use a lambda function in Python to sort a list of tuples based on the second element of each tuple."
      ],
      "metadata": {
        "id": "RqRn27LU6NZQ"
      }
    },
    {
      "cell_type": "code",
      "source": [
        "def sort_list_of_tuples(lst):\n",
        "    return sorted(lst, key=lambda x: x[1])\n",
        "\n",
        "my_list = [(1, 3), (3, 2), (2, 1)]\n",
        "sorted_list = sort_list_of_tuples(my_list)\n",
        "print(\"Sorted list:\", sorted_list)"
      ],
      "metadata": {
        "colab": {
          "base_uri": "https://localhost:8080/"
        },
        "id": "-W-iJG-O6RjY",
        "outputId": "360292a1-6e6c-4efc-bc81-64c6cb5ad12e"
      },
      "execution_count": 39,
      "outputs": [
        {
          "output_type": "stream",
          "name": "stdout",
          "text": [
            "Sorted list: [(2, 1), (3, 2), (1, 3)]\n"
          ]
        }
      ]
    },
    {
      "cell_type": "markdown",
      "source": [
        "9. Write a Python program that uses `map()` to convert a list of temperatures from Celsius to Fahrenheit."
      ],
      "metadata": {
        "id": "d-XwoO_263Q3"
      }
    },
    {
      "cell_type": "code",
      "source": [
        "def celsius_to_fahrenheit(celsius):\n",
        "    return (celsius * 9/5) + 32\n",
        "\n",
        "celsius_temps = [0, 10, 20, 30, 40]\n",
        "fahrenheit_temps = list(map(celsius_to_fahrenheit, celsius_temps))\n",
        "\n",
        "print(\"Celsius temperatures:\", celsius_temps)\n",
        "print(\"Fahrenheit temperatures:\", fahrenheit_temps)"
      ],
      "metadata": {
        "colab": {
          "base_uri": "https://localhost:8080/"
        },
        "id": "POcqSlOL66ao",
        "outputId": "fec39304-b038-4094-9ccd-cc229dab016c"
      },
      "execution_count": 40,
      "outputs": [
        {
          "output_type": "stream",
          "name": "stdout",
          "text": [
            "Celsius temperatures: [0, 10, 20, 30, 40]\n",
            "Fahrenheit temperatures: [32.0, 50.0, 68.0, 86.0, 104.0]\n"
          ]
        }
      ]
    },
    {
      "cell_type": "markdown",
      "source": [
        "10. Create a Python program that uses `filter()` to remove all the vowels from a given string."
      ],
      "metadata": {
        "id": "qzsFlRoa7b0n"
      }
    },
    {
      "cell_type": "code",
      "source": [
        "def remove_vowels(string):\n",
        "    vowels = 'aeiouAEIOU'\n",
        "    return ''.join(filter(lambda x: x not in vowels, string))\n",
        "\n",
        "my_string1 = \"Hello, World!\"\n",
        "result = remove_vowels(my_string1)\n",
        "print(result)"
      ],
      "metadata": {
        "colab": {
          "base_uri": "https://localhost:8080/"
        },
        "id": "HT-ZxZPR7gjn",
        "outputId": "ce921535-5965-43b3-b0ea-8b6a0ab4e186"
      },
      "execution_count": 42,
      "outputs": [
        {
          "output_type": "stream",
          "name": "stdout",
          "text": [
            "Hll, Wrld!\n"
          ]
        }
      ]
    },
    {
      "cell_type": "markdown",
      "source": [
        "11. Imagine an accounting routine used in a book shop. It works on a list with sublists, which look like this:\n",
        "\n",
        "Order Number 1: 34587, Book Title: Learning Python, Author: Mark Lutz, Quantity: 4, Price: 40.95\n",
        "\n",
        "Order Number 2: 98762, Book Title: Programming Python, Author: Mark Lutz, Quantity: 5, Price: 56.80\n",
        "\n",
        "Order Number 3: 77226, Book Title: Head First Python, Author: Paul Barry, Quantity: 3, Price: 32.95\n",
        "\n",
        "Order Number 4: 88112, Book Title: Einfuhrung in Python, Author: Bernd Klein, Quantity: 3, Price: 24.99\n",
        "\n",
        "\n",
        "Write a Python program, which returns a list with 2-tuples. Each tuple consists of the order number and the\n",
        "product of the price per item and the quantity. The product should be increased by 10,- € if the value of the\n",
        "order is smaller than 100.00 €.\n",
        "\n",
        "Write a Python program using lambda and map."
      ],
      "metadata": {
        "id": "eC7REdC770fP"
      }
    },
    {
      "cell_type": "code",
      "source": [
        "orders = [\n",
        "    [34587, \"Learning Python\", \"Mark Lutz\", 4, 40.95],\n",
        "    [98762, \"Programming Python\", \"Mark Lutz\", 5, 56.80],\n",
        "    [77226, \"Head First Python\", \"Paul Barry\", 3, 32.95],\n",
        "    [88112, \"Einfuhrung in Python\", \"Bernd Klein\", 3, 24.99]\n",
        "]\n",
        "\n",
        "result = list(map(lambda order: (\n",
        "    order[0],\n",
        "    round(order[3] * order[4] + (10 if order[3] * order[4] < 100 else 0), 2)\n",
        "), orders))\n",
        "\n",
        "print(result)\n"
      ],
      "metadata": {
        "colab": {
          "base_uri": "https://localhost:8080/"
        },
        "id": "Yjhs05ZvAMWk",
        "outputId": "50a2ff99-d246-4051-9532-feb846d2bb7d"
      },
      "execution_count": 45,
      "outputs": [
        {
          "output_type": "stream",
          "name": "stdout",
          "text": [
            "[(34587, 163.8), (98762, 284.0), (77226, 108.85), (88112, 84.97)]\n"
          ]
        }
      ]
    }
  ]
}